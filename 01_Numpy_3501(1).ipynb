{
 "cells": [
  {
   "cell_type": "markdown",
   "id": "ad0f6bab-896e-48d8-9c93-0d3041c24729",
   "metadata": {},
   "source": [
    "# Introdccion a Numpy"
   ]
  },
  {
   "cell_type": "markdown",
   "id": "e7d1861f-aee5-4304-b992-378e5991d74d",
   "metadata": {},
   "source": [
    "[Numpy](https://numpy.org/doc/stable/) es una libreria para la computacion con python.\n",
    "* Proporiona Arrays N-Dimensionales.\n",
    "* Implementa funciones matematicas sofisticadas\n",
    "* proporciona herramientas para integrar C/C++ y Fortran.\n",
    "* Proporciona mecanismos para facilitar la realizacion de las tareas relacionadas con algebra lineal o numeros aleatorios"
   ]
  },
  {
   "cell_type": "markdown",
   "id": "d70f32f9-6714-4f38-aaa5-f0701076c0a2",
   "metadata": {},
   "source": [
    "## Imports"
   ]
  },
  {
   "cell_type": "code",
   "execution_count": 1,
   "id": "3361594e-7111-4c8e-b86d-d80c30868150",
   "metadata": {},
   "outputs": [],
   "source": [
    "import numpy as np"
   ]
  },
  {
   "cell_type": "markdown",
   "id": "211099a8-5432-4021-8407-682aa0ec7c70",
   "metadata": {},
   "source": [
    "## Arrays\n",
    "Un **array** es una estructura de datos que consiste en una coleccion de elementos (valores o variables), cada uno identificdo por almenos un indice o clave. Un array se almacena de modo que la posicion de cada elemento se pueda calcular a partir de su tupla de inidce, mediante una formula matematica. El tipo mas simple de array es un array lineal tambien llamado array unidimensional"
   ]
  },
  {
   "cell_type": "markdown",
   "id": "989554d1-b2e4-4690-8a1b-23b6ff08fbe2",
   "metadata": {},
   "source": [
    "En Numpy:\n",
    "* Cada dimension se denomina **axis**\n",
    "* El numero de dimensiones se denomina **rank**\n",
    "* La lista de dimensiones con su correspondiente longitud se denomina **shape**\n",
    "* El numero total de elementos (multiplicacion de la longitud de las dimensiones) a esto se denomina **size**"
   ]
  },
  {
   "cell_type": "code",
   "execution_count": 2,
   "id": "df13a5a4-490d-4c69-bc57-b17f23db7d32",
   "metadata": {},
   "outputs": [
    {
     "data": {
      "text/plain": [
       "array([[0., 0., 0., 0.],\n",
       "       [0., 0., 0., 0.]])"
      ]
     },
     "execution_count": 2,
     "metadata": {},
     "output_type": "execute_result"
    }
   ],
   "source": [
    "# Array cuyos valores son todos 0.\n",
    "a= np.zeros((2, 4))\n",
    "a"
   ]
  },
  {
   "cell_type": "markdown",
   "id": "707e40a6-10dc-4970-98aa-f4c6c3244563",
   "metadata": {},
   "source": [
    "_a_ es una array:\n",
    "\n",
    "* con dos **axis**, el primero de longitud 2 y el segundo de longitud 4.\n",
    "* Con un **rank** igual a 2\n",
    "* Con un **shape** igual a (2,4)\n",
    "* Con un **size** igual a 8"
   ]
  },
  {
   "cell_type": "code",
   "execution_count": 3,
   "id": "4fca9a22-3afe-4192-b04a-7c901774d4e1",
   "metadata": {},
   "outputs": [
    {
     "data": {
      "text/plain": [
       "(2, 4)"
      ]
     },
     "execution_count": 3,
     "metadata": {},
     "output_type": "execute_result"
    }
   ],
   "source": [
    "a.shape"
   ]
  },
  {
   "cell_type": "code",
   "execution_count": 4,
   "id": "bfdf560b-2890-478b-977a-9d0d983ef5c1",
   "metadata": {},
   "outputs": [
    {
     "data": {
      "text/plain": [
       "2"
      ]
     },
     "execution_count": 4,
     "metadata": {},
     "output_type": "execute_result"
    }
   ],
   "source": [
    "a.ndim"
   ]
  },
  {
   "cell_type": "code",
   "execution_count": 5,
   "id": "56a8c865-4b95-4ade-b81f-a8ecc42bed11",
   "metadata": {},
   "outputs": [
    {
     "data": {
      "text/plain": [
       "8"
      ]
     },
     "execution_count": 5,
     "metadata": {},
     "output_type": "execute_result"
    }
   ],
   "source": [
    "a.size"
   ]
  },
  {
   "cell_type": "markdown",
   "id": "844138cd-39bf-40d4-b935-4037b4f571f9",
   "metadata": {},
   "source": [
    "## Creacion de Arrays\n"
   ]
  },
  {
   "cell_type": "code",
   "execution_count": 6,
   "id": "dd52759a-4e2c-40f7-9688-f0a68f612cce",
   "metadata": {},
   "outputs": [
    {
     "data": {
      "text/plain": [
       "array([[[0., 0., 0., 0.],\n",
       "        [0., 0., 0., 0.],\n",
       "        [0., 0., 0., 0.]],\n",
       "\n",
       "       [[0., 0., 0., 0.],\n",
       "        [0., 0., 0., 0.],\n",
       "        [0., 0., 0., 0.]]])"
      ]
     },
     "execution_count": 6,
     "metadata": {},
     "output_type": "execute_result"
    }
   ],
   "source": [
    "# Array cuyos valores son todos 0\n",
    "np.zeros((2,3,4))"
   ]
  },
  {
   "cell_type": "code",
   "execution_count": 7,
   "id": "f2c99387-5ce9-4749-9734-07436a6d8948",
   "metadata": {},
   "outputs": [
    {
     "data": {
      "text/plain": [
       "array([[[1., 1., 1., 1.],\n",
       "        [1., 1., 1., 1.],\n",
       "        [1., 1., 1., 1.]],\n",
       "\n",
       "       [[1., 1., 1., 1.],\n",
       "        [1., 1., 1., 1.],\n",
       "        [1., 1., 1., 1.]]])"
      ]
     },
     "execution_count": 7,
     "metadata": {},
     "output_type": "execute_result"
    }
   ],
   "source": [
    "# Array cuyos valores son todos 1\n",
    "np.ones((2,3,4))"
   ]
  },
  {
   "cell_type": "code",
   "execution_count": 8,
   "id": "7571dc3e-e4a2-44d2-8b2b-19ea9cf6e9d2",
   "metadata": {},
   "outputs": [
    {
     "data": {
      "text/plain": [
       "array([[[8, 8, 8, 8],\n",
       "        [8, 8, 8, 8],\n",
       "        [8, 8, 8, 8]],\n",
       "\n",
       "       [[8, 8, 8, 8],\n",
       "        [8, 8, 8, 8],\n",
       "        [8, 8, 8, 8]]])"
      ]
     },
     "execution_count": 8,
     "metadata": {},
     "output_type": "execute_result"
    }
   ],
   "source": [
    "# Array cuyos valores son todos el valor indicado como segundo parametro de la funcion\n",
    "np.full((2,3,4),8)"
   ]
  },
  {
   "cell_type": "code",
   "execution_count": 9,
   "id": "5e5e2935-81f4-461b-a3d9-c47b98b06101",
   "metadata": {},
   "outputs": [
    {
     "data": {
      "text/plain": [
       "array([[[1.12926954e-316, 0.00000000e+000, 6.69925271e-310,\n",
       "         6.69925245e-310, 6.69925271e-310, 6.69925245e-310,\n",
       "         6.69925245e-310, 6.69925271e-310, 6.69925271e-310],\n",
       "        [6.69925271e-310, 6.69925245e-310, 6.69925271e-310,\n",
       "         6.69925245e-310, 6.69925245e-310, 6.69925245e-310,\n",
       "         6.69925245e-310, 6.69925245e-310, 6.69925271e-310],\n",
       "        [6.69925271e-310, 6.69925271e-310, 6.69925245e-310,\n",
       "         6.69925272e-310, 6.69925245e-310, 6.69925245e-310,\n",
       "         6.69925271e-310, 6.69925271e-310, 6.69925271e-310]],\n",
       "\n",
       "       [[6.69925245e-310, 6.69925271e-310, 6.69925245e-310,\n",
       "         6.69925245e-310, 6.69925245e-310, 6.69925245e-310,\n",
       "         6.69925245e-310, 6.69925271e-310, 6.69925245e-310],\n",
       "        [6.69925271e-310, 6.69925245e-310, 6.69925245e-310,\n",
       "         6.69925271e-310, 6.69925245e-310, 6.69925245e-310,\n",
       "         6.69925245e-310, 6.69925245e-310, 3.59264612e-075],\n",
       "        [9.10250474e+223, 4.91461491e+252, 2.35054197e+180,\n",
       "         8.44251989e-053, 6.98083560e+194, 1.28625506e+248,\n",
       "         5.40840706e-308, 1.33360319e+241, 1.05887590e-311]]])"
      ]
     },
     "execution_count": 9,
     "metadata": {},
     "output_type": "execute_result"
    }
   ],
   "source": [
    "#El resultado de np.empty no es predecible\n",
    "#Se inicializa con los valores del array con lo que haya en memoria en ese momento\n",
    "np.empty((2,3,9))"
   ]
  },
  {
   "cell_type": "code",
   "execution_count": 11,
   "id": "41e53274-7535-421c-9025-020e1f8f6d99",
   "metadata": {},
   "outputs": [
    {
     "data": {
      "text/plain": [
       "array([[1, 2, 3],\n",
       "       [4, 5, 6]])"
      ]
     },
     "execution_count": 11,
     "metadata": {},
     "output_type": "execute_result"
    }
   ],
   "source": [
    "#Inicializar el array utilizando un array de Python.\n",
    "b=np.array([[1,2,3],[4,5,6]])\n",
    "b"
   ]
  },
  {
   "cell_type": "code",
   "execution_count": 12,
   "id": "7afaf126-16ce-46ab-9a54-12dba8cf4a2f",
   "metadata": {},
   "outputs": [
    {
     "data": {
      "text/plain": [
       "(2, 3)"
      ]
     },
     "execution_count": 12,
     "metadata": {},
     "output_type": "execute_result"
    }
   ],
   "source": [
    "b.shape"
   ]
  },
  {
   "cell_type": "code",
   "execution_count": 13,
   "id": "c73c28fe-ad90-4eeb-a3c3-5375d7aedcde",
   "metadata": {},
   "outputs": [
    {
     "name": "stdout",
     "output_type": "stream",
     "text": [
      "[0.         0.66666667 1.33333333 2.         2.66666667 3.33333333\n",
      " 4.         4.66666667 5.33333333 6.        ]\n"
     ]
    }
   ],
   "source": [
    "# Crear un array utilizando una función basada en rangos\n",
    "# (minimo,maximo,número de elementosde array)\n",
    "print(np.linspace(0,6,10))"
   ]
  },
  {
   "cell_type": "code",
   "execution_count": 14,
   "id": "291c9c15-b5f8-4de5-a6bb-536caa4e8820",
   "metadata": {},
   "outputs": [
    {
     "data": {
      "text/plain": [
       "array([[[0.97122488, 0.91537484, 0.86945398, 0.45250709],\n",
       "        [0.75893391, 0.48973958, 0.63615837, 0.42161629],\n",
       "        [0.86715953, 0.23191413, 0.64517022, 0.26345465]],\n",
       "\n",
       "       [[0.24292387, 0.04932881, 0.5180093 , 0.60021509],\n",
       "        [0.58196033, 0.18468585, 0.7777444 , 0.36684933],\n",
       "        [0.97912985, 0.45377852, 0.0953643 , 0.44399799]]])"
      ]
     },
     "execution_count": 14,
     "metadata": {},
     "output_type": "execute_result"
    }
   ],
   "source": [
    "# Inicializar el array con valores aleatorios.\n",
    "np.random.rand(2,3,4)"
   ]
  },
  {
   "cell_type": "code",
   "execution_count": 15,
   "id": "0c4733ec-c7b3-4e26-a14b-a5e0b72cecde",
   "metadata": {},
   "outputs": [
    {
     "data": {
      "text/plain": [
       "array([[ 0.95811442,  1.58284963,  0.20758616, -1.59675641],\n",
       "       [-0.10346272,  0.88036733,  0.9766173 , -0.56179319]])"
      ]
     },
     "execution_count": 15,
     "metadata": {},
     "output_type": "execute_result"
    }
   ],
   "source": [
    "# Iniciar array con valores aleatorios conforme a una distribucion normal\n",
    "np.random.randn(2,4)"
   ]
  },
  {
   "cell_type": "code",
   "execution_count": 17,
   "id": "4c3a17c6-97d0-46d8-b8b9-21b97060ad2e",
   "metadata": {},
   "outputs": [
    {
     "data": {
      "image/png": "[encoded data removed]",
      "text/plain": [
       "<Figure size 640x480 with 1 Axes>"
      ]
     },
     "metadata": {},
     "output_type": "display_data"
    }
   ],
   "source": [
    "%matplotlib inline\n",
    "import matplotlib.pyplot as plt\n",
    "\n",
    "c=np.random.randn(10000)\n",
    "plt.hist(c, bins=200)\n",
    "plt.show()"
   ]
  },
  {
   "cell_type": "code",
   "execution_count": 18,
   "id": "5ce9bb8e-8b0c-4e3f-ae66-156c788501f4",
   "metadata": {},
   "outputs": [
    {
     "data": {
      "text/plain": [
       "array([[ 0.,  2.,  4.,  6.,  8.],\n",
       "       [ 1.,  3.,  5.,  7.,  9.],\n",
       "       [ 2.,  4.,  6.,  8., 10.]])"
      ]
     },
     "execution_count": 18,
     "metadata": {},
     "output_type": "execute_result"
    }
   ],
   "source": [
    "# Inicializar un array, utilizando una función personalizada\n",
    "\n",
    "def func(x,y):\n",
    "    return x + 2 * y\n",
    "\n",
    "np.fromfunction(func, (3,5))"
   ]
  },
  {
   "cell_type": "markdown",
   "id": "15aa1143-94e7-4153-9c04-b9463987df1a",
   "metadata": {},
   "source": [
    "# Acceso a los elementos de un array\n",
    "\n",
    "## Array Unidimensional"
   ]
  },
  {
   "cell_type": "code",
   "execution_count": 20,
   "id": "d945c1b7-c544-4334-aba7-bcb3ef4943f0",
   "metadata": {},
   "outputs": [
    {
     "name": "stdout",
     "output_type": "stream",
     "text": [
      "shape: (6,)\n",
      "Array_uni [ 1  3  5  7  9 11]\n"
     ]
    }
   ],
   "source": [
    "# Acceder a los elementos de un array.\n",
    "array_uni=np.array([1,3,5,7,9,11])\n",
    "print(\"shape:\", array_uni.shape)\n",
    "print(\"Array_uni\", array_uni)"
   ]
  },
  {
   "cell_type": "code",
   "execution_count": 21,
   "id": "10317e4b-9708-43da-9561-7f7cd34a2b47",
   "metadata": {},
   "outputs": [
    {
     "data": {
      "text/plain": [
       "np.int64(9)"
      ]
     },
     "execution_count": 21,
     "metadata": {},
     "output_type": "execute_result"
    }
   ],
   "source": [
    "# Accediendo al quinto elemento de array \n",
    "array_uni[4]"
   ]
  },
  {
   "cell_type": "code",
   "execution_count": 22,
   "id": "5521146c-68e1-4cf6-a352-f618aac349ae",
   "metadata": {},
   "outputs": [
    {
     "data": {
      "text/plain": [
       "array([5, 7])"
      ]
     },
     "execution_count": 22,
     "metadata": {},
     "output_type": "execute_result"
    }
   ],
   "source": [
    "# Acceder al tercer y cuarto elemento del array\n",
    "array_uni[2:4]"
   ]
  },
  {
   "cell_type": "markdown",
   "id": "2e052226-2ace-4028-879a-052ac6417311",
   "metadata": {},
   "source": [
    "### Array Multidimensional"
   ]
  },
  {
   "cell_type": "code",
   "execution_count": 24,
   "id": "e44d7935-5953-46a8-86f0-333f53cd033d",
   "metadata": {},
   "outputs": [
    {
     "name": "stdout",
     "output_type": "stream",
     "text": [
      "Shape: (2, 4)\n",
      "Array_multi:\n",
      " [[1 2 3 4]\n",
      " [5 6 7 8]]\n"
     ]
    }
   ],
   "source": [
    "# Crear un array Multidimensional\n",
    "array_multi= np.array([[1,2,3,4],[5,6,7,8]])\n",
    "print(\"Shape:\", array_multi.shape)\n",
    "print(\"Array_multi:\\n\", array_multi)"
   ]
  },
  {
   "cell_type": "code",
   "execution_count": 25,
   "id": "c13ee63f-8135-4e98-8a68-9572c37b127b",
   "metadata": {},
   "outputs": [
    {
     "data": {
      "text/plain": [
       "np.int64(4)"
      ]
     },
     "execution_count": 25,
     "metadata": {},
     "output_type": "execute_result"
    }
   ],
   "source": [
    "#Acceder al cuarto elemento del array \n",
    "array_multi[0,3]"
   ]
  },
  {
   "cell_type": "code",
   "execution_count": 26,
   "id": "d41824f0-ea01-4136-a084-c87a21dcd57b",
   "metadata": {},
   "outputs": [
    {
     "data": {
      "text/plain": [
       "array([5, 6, 7, 8])"
      ]
     },
     "execution_count": 26,
     "metadata": {},
     "output_type": "execute_result"
    }
   ],
   "source": [
    "# Acceder a la segunda fila del array\n",
    "array_multi[1,:]"
   ]
  },
  {
   "cell_type": "code",
   "execution_count": 27,
   "id": "02225532-c45f-47bd-b9a9-056a3230af72",
   "metadata": {},
   "outputs": [
    {
     "data": {
      "text/plain": [
       "array([3, 7])"
      ]
     },
     "execution_count": 27,
     "metadata": {},
     "output_type": "execute_result"
    }
   ],
   "source": [
    "# Accediendo al primer y tercer elemento de las dos primeras filas del array \n",
    "array_multi[0:2,2]"
   ]
  },
  {
   "cell_type": "markdown",
   "id": "43440445-e4e6-4401-ab97-afe76f4659be",
   "metadata": {},
   "source": [
    "## Modificación de un array "
   ]
  },
  {
   "cell_type": "code",
   "execution_count": 28,
   "id": "d61dfdaf-fb6b-437e-9a3b-5769bdd2fb65",
   "metadata": {},
   "outputs": [
    {
     "name": "stdout",
     "output_type": "stream",
     "text": [
      "Shape: (28,)\n",
      "Array:\n",
      " [ 0  1  2  3  4  5  6  7  8  9 10 11 12 13 14 15 16 17 18 19 20 21 22 23\n",
      " 24 25 26 27]\n"
     ]
    }
   ],
   "source": [
    "# Crear un arreglo Unidimensional e inicializarlo con un rango \n",
    "#de elementos 0-27\n",
    "array1 = np.arange(28)\n",
    "print(\"Shape:\", array1.shape)\n",
    "print(\"Array:\\n\", array1)"
   ]
  },
  {
   "cell_type": "code",
   "execution_count": 29,
   "id": "6b34d1f8-37a0-4f04-8e6d-80493d0d11d3",
   "metadata": {},
   "outputs": [
    {
     "name": "stdout",
     "output_type": "stream",
     "text": [
      "Shape: (7, 4)\n",
      "Array\n",
      " [[ 0  1  2  3]\n",
      " [ 4  5  6  7]\n",
      " [ 8  9 10 11]\n",
      " [12 13 14 15]\n",
      " [16 17 18 19]\n",
      " [20 21 22 23]\n",
      " [24 25 26 27]]\n"
     ]
    }
   ],
   "source": [
    "# Cambiar las dimensiones  del array y sus longitudes\n",
    "array1.shape = (7,4)\n",
    "print(\"Shape:\", array1.shape)\n",
    "print(\"Array\\n\", array1)\n"
   ]
  },
  {
   "cell_type": "code",
   "execution_count": 30,
   "id": "703835db-685c-44e8-9726-6fc827026a08",
   "metadata": {},
   "outputs": [
    {
     "name": "stdout",
     "output_type": "stream",
     "text": [
      "Shape: (4, 7)\n",
      "Array:\n",
      " [[ 0  1  2  3  4  5  6]\n",
      " [ 7  8  9 10 11 12 13]\n",
      " [14 15 16 17 18 19 20]\n",
      " [21 22 23 24 25 26 27]]\n"
     ]
    }
   ],
   "source": [
    "# El ejemplo anterior devuelve un nuevo array que apunta a los mismos datos\n",
    "# NOTA: Modificaciones en el arreglo, modificaran al otro array\n",
    "array2 = array1.reshape(4,7)\n",
    "print(\"Shape:\", array2.shape)\n",
    "print(\"Array:\\n\", array2)"
   ]
  },
  {
   "cell_type": "code",
   "execution_count": 31,
   "id": "34f244a0-79d3-4c64-97fb-ea9a818df4ae",
   "metadata": {},
   "outputs": [
    {
     "name": "stdout",
     "output_type": "stream",
     "text": [
      "Shape: (4, 7)\n",
      "Array:\n",
      " [[ 0  1  2  3  4  5  6]\n",
      " [ 7  8  9 30 11 12 13]\n",
      " [14 15 16 17 18 19 20]\n",
      " [21 22 23 24 25 26 27]]\n"
     ]
    }
   ],
   "source": [
    "# Modificación del nuevo array devuelto\n",
    "array2[1, 3] = 30\n",
    "print(\"Shape:\", array2.shape)\n",
    "print(\"Array:\\n\", array2)"
   ]
  },
  {
   "cell_type": "code",
   "execution_count": 32,
   "id": "d430e9d4-d6c4-4817-befe-c69bc3a1b9c5",
   "metadata": {},
   "outputs": [
    {
     "name": "stdout",
     "output_type": "stream",
     "text": [
      "Array1:\n",
      " [[ 0  1  2  3]\n",
      " [ 4  5  6  7]\n",
      " [ 8  9 30 11]\n",
      " [12 13 14 15]\n",
      " [16 17 18 19]\n",
      " [20 21 22 23]\n",
      " [24 25 26 27]]\n"
     ]
    }
   ],
   "source": [
    "print(\"Array1:\\n\", array1)"
   ]
  },
  {
   "cell_type": "code",
   "execution_count": 33,
   "id": "2478f685-e218-4e84-8d73-259ef1a68c8d",
   "metadata": {},
   "outputs": [
    {
     "name": "stdout",
     "output_type": "stream",
     "text": [
      "Array1:\n",
      " [ 0  1  2  3  4  5  6  7  8  9 30 11 12 13 14 15 16 17 18 19 20 21 22 23\n",
      " 24 25 26 27]\n"
     ]
    }
   ],
   "source": [
    "# Devolver array a su estado original\n",
    "print (\"Array1:\\n\", array1.ravel())"
   ]
  },
  {
   "cell_type": "markdown",
   "id": "37791644-9c6c-4a2d-88d1-83c3f22ab336",
   "metadata": {},
   "source": [
    "## Operaciones Aritméticas con arrays"
   ]
  },
  {
   "cell_type": "code",
   "execution_count": 34,
   "id": "cbc6e617-0550-4bcb-9070-8387703dda15",
   "metadata": {},
   "outputs": [
    {
     "name": "stdout",
     "output_type": "stream",
     "text": [
      "Array1: [ 2  4  6  8 10 12 14 16]\n",
      "Array2: [0 1 2 3 4 5 6 7]\n"
     ]
    }
   ],
   "source": [
    "array1 = np.arange(2,18,2)\n",
    "array2 =np.arange(8)\n",
    "print(\"Array1:\", array1)\n",
    "print(\"Array2:\", array2)\n"
   ]
  },
  {
   "cell_type": "code",
   "execution_count": 35,
   "id": "7039e542-a95c-4e52-83a3-be65fa7d99ae",
   "metadata": {},
   "outputs": [
    {
     "name": "stdout",
     "output_type": "stream",
     "text": [
      "[ 2  5  8 11 14 17 20 23]\n"
     ]
    }
   ],
   "source": [
    "# Suma \n",
    "print(array1 + array2)"
   ]
  },
  {
   "cell_type": "code",
   "execution_count": 36,
   "id": "a287f268-b86e-4f3b-8bb1-be263054cbaf",
   "metadata": {},
   "outputs": [
    {
     "name": "stdout",
     "output_type": "stream",
     "text": [
      "[2 3 4 5 6 7 8 9]\n"
     ]
    }
   ],
   "source": [
    "# Resta\n",
    "print(array1 - array2)"
   ]
  },
  {
   "cell_type": "code",
   "execution_count": 37,
   "id": "f19e0115-6d12-4323-b056-3bf36ed51a46",
   "metadata": {},
   "outputs": [
    {
     "name": "stdout",
     "output_type": "stream",
     "text": [
      "[  0   4  12  24  40  60  84 112]\n"
     ]
    }
   ],
   "source": [
    "# Multiplicación\n",
    "#NOTA: No es una multiplicación de matrices\n",
    "print(array1 * array2)"
   ]
  },
  {
   "cell_type": "markdown",
   "id": "d224e274-21c7-415d-9482-93976c78ef99",
   "metadata": {},
   "source": [
    "## Broadcasting\n",
    "Si se aplican operaciones aritméticas sobre arrays que no tienen la misma forma (shape), Numpy aplica la propiedad que se llama Broadcasting"
   ]
  },
  {
   "cell_type": "code",
   "execution_count": 38,
   "id": "e7506d3b-a73d-41df-aa2a-2338092aa138",
   "metadata": {},
   "outputs": [
    {
     "name": "stdout",
     "output_type": "stream",
     "text": [
      "Shape: (5,)\n",
      "Array:\n",
      " [0 1 2 3 4]\n",
      "\n",
      "\n",
      "Shape: (1,)\n",
      "Array:\n",
      " [3]\n"
     ]
    }
   ],
   "source": [
    "array1 =np.arange(5)\n",
    "array2 =np.array([3])\n",
    "print(\"Shape:\", array1.shape)\n",
    "print(\"Array:\\n\", array1)\n",
    "print(\"\\n\")\n",
    "print(\"Shape:\", array2.shape)\n",
    "print(\"Array:\\n\", array2)"
   ]
  },
  {
   "cell_type": "code",
   "execution_count": 39,
   "id": "bdadb1f4-90da-4498-acce-11a6b2053fa7",
   "metadata": {},
   "outputs": [
    {
     "data": {
      "text/plain": [
       "array([3, 4, 5, 6, 7])"
      ]
     },
     "execution_count": 39,
     "metadata": {},
     "output_type": "execute_result"
    }
   ],
   "source": [
    "#Suma de ambos arrays\n",
    "array1 +array2"
   ]
  },
  {
   "cell_type": "code",
   "execution_count": 40,
   "id": "ae23e3f1-57b2-4f37-905f-487e7c50c858",
   "metadata": {},
   "outputs": [
    {
     "data": {
      "text/plain": [
       "array([ 0,  3,  6,  9, 12])"
      ]
     },
     "execution_count": 40,
     "metadata": {},
     "output_type": "execute_result"
    }
   ],
   "source": [
    "#Multiplicación de ambos arrays\n",
    "array1 * array2"
   ]
  },
  {
   "cell_type": "markdown",
   "id": "90094a9b-1d6d-4817-bdf5-dff0909dca68",
   "metadata": {},
   "source": [
    "## Funciones estadisticas sobre arrays"
   ]
  },
  {
   "cell_type": "code",
   "execution_count": 41,
   "id": "7d70ce41-9981-4afd-9a3e-782fa739ec6e",
   "metadata": {},
   "outputs": [
    {
     "name": "stdout",
     "output_type": "stream",
     "text": [
      "Array:\n",
      " [ 1  3  5  7  9 11 13 15 17 19]\n"
     ]
    }
   ],
   "source": [
    "# Creación de un array unidimensional\n",
    "array1 =np.arange(1,20,2)\n",
    "print(\"Array:\\n\", array1)"
   ]
  },
  {
   "cell_type": "code",
   "execution_count": 42,
   "id": "227d49d2-696e-48bb-9292-eed0fd5a57ed",
   "metadata": {},
   "outputs": [
    {
     "data": {
      "text/plain": [
       "np.float64(10.0)"
      ]
     },
     "execution_count": 42,
     "metadata": {},
     "output_type": "execute_result"
    }
   ],
   "source": [
    "# Media de los elementos del array\n",
    "array1.mean()"
   ]
  },
  {
   "cell_type": "code",
   "execution_count": 43,
   "id": "bbc23225-61f0-45cd-a2ab-80df6f68ca24",
   "metadata": {},
   "outputs": [
    {
     "data": {
      "text/plain": [
       "np.int64(100)"
      ]
     },
     "execution_count": 43,
     "metadata": {},
     "output_type": "execute_result"
    }
   ],
   "source": [
    "# Suma de los elementos del array\n",
    "array1.sum()"
   ]
  },
  {
   "cell_type": "markdown",
   "id": "209013f4-f6e7-4e7a-bc65-ac65ea676d0f",
   "metadata": {},
   "source": [
    "## Funciones Universales proporcionadas por Numpy:**ufunc**."
   ]
  },
  {
   "cell_type": "code",
   "execution_count": 44,
   "id": "612ab7a9-b5a3-4d2e-a68a-5414862db941",
   "metadata": {},
   "outputs": [
    {
     "data": {
      "text/plain": [
       "array([  1,   9,  25,  49,  81, 121, 169, 225, 289, 361])"
      ]
     },
     "execution_count": 44,
     "metadata": {},
     "output_type": "execute_result"
    }
   ],
   "source": [
    "# Cuadrado de los elementos del array \n",
    "np.square(array1)"
   ]
  },
  {
   "cell_type": "code",
   "execution_count": 45,
   "id": "a084c501-d5d2-4fe0-935d-940de49748a6",
   "metadata": {},
   "outputs": [
    {
     "data": {
      "text/plain": [
       "array([1.        , 1.73205081, 2.23606798, 2.64575131, 3.        ,\n",
       "       3.31662479, 3.60555128, 3.87298335, 4.12310563, 4.35889894])"
      ]
     },
     "execution_count": 45,
     "metadata": {},
     "output_type": "execute_result"
    }
   ],
   "source": [
    "# Raiz cuadradada de los elementos del array\n",
    "np.sqrt(array1)"
   ]
  },
  {
   "cell_type": "code",
   "execution_count": 46,
   "id": "fc42e4dc-8b34-4ac3-8d3b-5d3f491b698d",
   "metadata": {},
   "outputs": [
    {
     "data": {
      "text/plain": [
       "array([2.71828183e+00, 2.00855369e+01, 1.48413159e+02, 1.09663316e+03,\n",
       "       8.10308393e+03, 5.98741417e+04, 4.42413392e+05, 3.26901737e+06,\n",
       "       2.41549528e+07, 1.78482301e+08])"
      ]
     },
     "execution_count": 46,
     "metadata": {},
     "output_type": "execute_result"
    }
   ],
   "source": [
    "# Exponencial de los elemnetos del array \n",
    "np.exp(array1)"
   ]
  },
  {
   "cell_type": "code",
   "execution_count": 47,
   "id": "bbab8095-322a-4686-a27b-467ea6539f92",
   "metadata": {},
   "outputs": [
    {
     "data": {
      "text/plain": [
       "array([0.        , 1.09861229, 1.60943791, 1.94591015, 2.19722458,\n",
       "       2.39789527, 2.56494936, 2.7080502 , 2.83321334, 2.94443898])"
      ]
     },
     "execution_count": 47,
     "metadata": {},
     "output_type": "execute_result"
    }
   ],
   "source": [
    "# Log del array\n",
    "np.log(array1)"
   ]
  },
  {
   "cell_type": "code",
   "execution_count": null,
   "id": "01a258e8-b85e-4daa-b499-df5cc2feccbc",
   "metadata": {},
   "outputs": [],
   "source": []
  }
 ],
 "metadata": {
  "kernelspec": {
   "display_name": "Python 3 (ipykernel)",
   "language": "python",
   "name": "python3"
  },
  "language_info": {
   "codemirror_mode": {
    "name": "ipython",
    "version": 3
   },
   "file_extension": ".py",
   "mimetype": "text/x-python",
   "name": "python",
   "nbconvert_exporter": "python",
   "pygments_lexer": "ipython3",
   "version": "3.9.19"
  }
 },
 "nbformat": 4,
 "nbformat_minor": 5
}
